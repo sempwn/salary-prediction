{
 "cells": [
  {
   "cell_type": "code",
   "execution_count": 4,
   "metadata": {
    "collapsed": false
   },
   "outputs": [],
   "source": [
    "import data_io\n",
    "from features import FeatureMapper, SimpleTransform\n",
    "import numpy as np\n",
    "import pickle\n",
    "from sklearn.ensemble import RandomForestRegressor\n",
    "from sklearn.feature_extraction.text import CountVectorizer\n",
    "from sklearn.pipeline import Pipeline\n",
    "import re\n",
    "\n",
    "\n",
    "from nltk.corpus import stopwords\n",
    "from nltk import word_tokenize          \n",
    "from nltk.stem import WordNetLemmatizer \n",
    "\n",
    "cachedStopWords = stopwords.words(\"english\") #cache stop words to speed-up removing them.\n",
    "\n",
    "class LemmaTokenizer(object):\n",
    "    def __init__(self):\n",
    "        self.wnl = WordNetLemmatizer()\n",
    "    def __call__(self, doc):\n",
    "        return [self.wnl.lemmatize(t) for t in word_tokenize(doc)]\n",
    "\n",
    "def pre_processor(text):\n",
    "        return re.sub(r'[^0-9a-zA-Z]+', \" \", text).lower()\n",
    "    \n",
    "vectorizor = CountVectorizer(max_features=100,tokenizer=LemmaTokenizer(),preprocessor=pre_processor)\n",
    "def feature_extractor():\n",
    "    features = [('FullDescription-Bag of Words', 'FullDescription', vectorizor),\n",
    "                ('Title-Bag of Words', 'Title', vectorizor),\n",
    "                ('LocationRaw-Bag of Words', 'LocationRaw', vectorizor),\n",
    "                ('LocationNormalized-Bag of Words', 'LocationNormalized', vectorizor)]\n",
    "    combined = FeatureMapper(features)\n",
    "    return combined\n",
    "\n",
    "def get_pipeline():\n",
    "    features = feature_extractor()\n",
    "    steps = [(\"extract_features\", features),\n",
    "             (\"classify\", RandomForestRegressor(n_estimators=50, \n",
    "                                                verbose=2,\n",
    "                                                n_jobs=4,\n",
    "                                                min_samples_split=30,\n",
    "                                                random_state=3465343))]\n",
    "    return Pipeline(steps)\n",
    "\n",
    "\n",
    "\n",
    "    \n"
   ]
  },
  {
   "cell_type": "code",
   "execution_count": 5,
   "metadata": {
    "collapsed": false
   },
   "outputs": [
    {
     "name": "stdout",
     "output_type": "stream",
     "text": [
      "Reading in the training data\n",
      "Extracting features and training model\n",
      "building tree 1 of 50\n",
      "building tree 2 of 50\n",
      "building tree 3 of 50\n",
      "building tree 4 of 50\n",
      "building tree 5 of 50\n",
      "building tree 6 of 50\n",
      "building tree 7 of 50\n",
      "building tree 8 of 50\n",
      "building tree 9 of 50\n",
      "building tree 10 of 50\n",
      "building tree 11 of 50\n",
      "building tree 12 of 50\n",
      "building tree 13 of 50\n",
      "building tree 14 of 50\n",
      "building tree 15 of 50\n",
      "building tree 16 of 50\n",
      "building tree 17 of 50\n",
      "building tree 18 of 50\n",
      "building tree 19 of 50\n",
      "building tree 20 of 50\n",
      "building tree 21 of 50\n",
      "building tree 22 of 50\n",
      "building tree 23 of 50\n",
      "building tree 24 of 50\n",
      "building tree 25 of 50\n",
      "building tree 26 of 50\n",
      "building tree 27 of 50\n",
      "building tree 28 of 50\n",
      "building tree 29 of 50\n",
      "building tree 30 of 50\n",
      "building tree 31 of 50\n",
      "building tree 32 of 50\n",
      "building tree 33 of 50\n",
      "building tree 34 of 50\n",
      "building tree 35 of 50\n",
      "building tree 36 of 50\n",
      "building tree 37 of 50\n",
      "building tree 38 of 50\n"
     ]
    },
    {
     "name": "stderr",
     "output_type": "stream",
     "text": [
      "[Parallel(n_jobs=4)]: Done  33 tasks      | elapsed:  4.4min\n"
     ]
    },
    {
     "name": "stdout",
     "output_type": "stream",
     "text": [
      "building tree 39 of 50\n",
      "building tree 40 of 50\n",
      "building tree 41 of 50\n",
      "building tree 42 of 50\n",
      "building tree 43 of 50\n",
      "building tree 44 of 50\n",
      "building tree 45 of 50\n",
      "building tree 46 of 50\n",
      "building tree 47 of 50\n",
      "building tree 48 of 50\n",
      "building tree 49 of 50\n",
      "building tree 50 of 50\n"
     ]
    },
    {
     "name": "stderr",
     "output_type": "stream",
     "text": [
      "[Parallel(n_jobs=4)]: Done  50 out of  50 | elapsed:  6.2min finished\n"
     ]
    },
    {
     "name": "stdout",
     "output_type": "stream",
     "text": [
      "Saving the classifier\n"
     ]
    }
   ],
   "source": [
    "print(\"Reading in the training data\")\n",
    "train = data_io.get_train_df()\n",
    "\n",
    "print(\"Extracting features and training model\")\n",
    "classifier = get_pipeline()\n",
    "classifier.fit(train, train[\"SalaryNormalized\"])\n",
    "\n",
    "print(\"Saving the classifier\")\n",
    "data_io.save_model(classifier)"
   ]
  },
  {
   "cell_type": "code",
   "execution_count": 8,
   "metadata": {
    "collapsed": false
   },
   "outputs": [
    {
     "name": "stdout",
     "output_type": "stream",
     "text": [
      "Making predictions\n"
     ]
    },
    {
     "name": "stderr",
     "output_type": "stream",
     "text": [
      "[Parallel(n_jobs=4)]: Done  33 tasks      | elapsed:    0.1s\n",
      "[Parallel(n_jobs=4)]: Done  50 out of  50 | elapsed:    0.1s finished\n"
     ]
    },
    {
     "name": "stdout",
     "output_type": "stream",
     "text": [
      "Writing predictions to file\n"
     ]
    }
   ],
   "source": [
    "print(\"Making predictions\")\n",
    "valid = data_io.get_valid_df()\n",
    "predictions = classifier.predict(valid)\n",
    "predictions = predictions.reshape(len(predictions), 1)\n",
    "\n",
    "print(\"Writing predictions to file\")\n",
    "data_io.write_submission(predictions)"
   ]
  },
  {
   "cell_type": "code",
   "execution_count": 37,
   "metadata": {
    "collapsed": false
   },
   "outputs": [
    {
     "name": "stdout",
     "output_type": "stream",
     "text": [
      "[ 14961.33308984]\n"
     ]
    },
    {
     "name": "stderr",
     "output_type": "stream",
     "text": [
      "[Parallel(n_jobs=4)]: Done  33 tasks      | elapsed:    0.0s\n",
      "[Parallel(n_jobs=4)]: Done  50 out of  50 | elapsed:    0.0s finished\n"
     ]
    }
   ],
   "source": [
    "my_job = valid.loc[valid.Id==13656201]\n",
    "my_job.Title = \"Mathematical epidemiology PostDoctoral Fellow\"\n",
    "my_job.FullDescription = \"Mathematical epidemiology. Modelling of infectious diseases. Must be proficient in Matlab, R or Python.\"\n",
    "my_job.Company = \"University of Warwick\"\n",
    "my_job.LocationRaw = \"Coventry\"\n",
    "my_job.LocationNormalized = \"Coventry\"\n",
    "predictions = classifier.predict(my_job)\n",
    "print(predictions)"
   ]
  }
 ],
 "metadata": {
  "kernelspec": {
   "display_name": "Python 2",
   "language": "python",
   "name": "python2"
  },
  "language_info": {
   "codemirror_mode": {
    "name": "ipython",
    "version": 2
   },
   "file_extension": ".py",
   "mimetype": "text/x-python",
   "name": "python",
   "nbconvert_exporter": "python",
   "pygments_lexer": "ipython2",
   "version": "2.7.11"
  }
 },
 "nbformat": 4,
 "nbformat_minor": 0
}
